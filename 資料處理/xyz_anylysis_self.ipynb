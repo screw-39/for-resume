{
 "cells": [
  {
   "cell_type": "markdown",
   "id": "205566c7",
   "metadata": {},
   "source": [
    "## 過去實驗室常用的資料集QM9，其中將不同化合物分子的組成以及其性質分別寫在不同.xyz中。\n",
    "\n",
    "## 以下程式碼中展示我為了實驗需求將不同化合物的原子距離計算並合併成datadrame，並根據化學式找出符合特定結構的化合物輸出。"
   ]
  },
  {
   "cell_type": "code",
   "execution_count": 1,
   "id": "927a9480",
   "metadata": {},
   "outputs": [],
   "source": [
    "import os\n",
    "from glob import glob\n",
    "import numpy as np\n",
    "import pandas as pd"
   ]
  },
  {
   "cell_type": "code",
   "execution_count": 36,
   "id": "45dd1e27",
   "metadata": {},
   "outputs": [],
   "source": [
    "# utility function\n",
    "def distance(x1, x2):\n",
    "    \"\"\"\n",
    "    Get distance of two points\n",
    "    \"\"\"\n",
    "    x1 = x1.astype(float)\n",
    "    x2 = x2.astype(float)\n",
    "    return np.linalg.norm(x1-x2)\n",
    "\n",
    "def get_mole_xyz(df):\n",
    "    \"\"\"\n",
    "    Get the compoments coordinate\n",
    "    \"\"\"\n",
    "    atom_list = []\n",
    "    for k, v in zip(df.index, df[['x', 'y', 'z']].values):\n",
    "        atom_list.append(f\"{k}:\"+ str(v).replace(\"  \", \",\").replace(\",]\", \"]\"))\n",
    "    return atom_list\n",
    "\n",
    "def nn_check(smiles):\n",
    "    \"\"\"\n",
    "    check molecule has > 2 nitrogen atoms\n",
    "    \"\"\"\n",
    "    count_n = smiles.count('n')\n",
    "    count_N = smiles.count('N')\n",
    "    return (count_n + count_N) >= 2\n",
    "\n",
    "def data_anylysis(fp):\n",
    "    \"\"\"\n",
    "    make a dataframe contain distance, filename, and smiles by molecule which has more than two nitrogen atoms\n",
    "    \"\"\"\n",
    "    with open(fp, \"r\") as f: data = f.readlines()\n",
    "    smiles = data[-2].split()[0]\n",
    "    final_df = pd.DataFrame()\n",
    "    if nn_check(smiles):\n",
    "        a = int(data[0])\n",
    "        df = pd.read_csv(fp, skiprows=2, skipfooter=len(data)-2-a,\n",
    "                        engine='python', sep=\"\\t\", names=[\"atom\", \"x\", 'y', 'z', \"ele_mean\"])\n",
    "        filter = (df['atom'] == 'N')\n",
    "        target_df = df[filter]\n",
    "        xyz = list(target_df[['x', 'y', 'z']].values)\n",
    "        dist = []\n",
    "\n",
    "\n",
    "        for i in range(len(xyz)):\n",
    "            target = range(len(xyz))[i+1:]\n",
    "            for j in target:\n",
    "                dist.append(distance(xyz[i], xyz[j]))\n",
    "        final_df = pd.DataFrame({'molecule':fp[12:-4], 'distance':[dist], 'longest_dist':sorted(dist)[-1], 'smiles':smiles})\n",
    "    return final_df"
   ]
  },
  {
   "cell_type": "code",
   "execution_count": 37,
   "id": "57848e1b",
   "metadata": {},
   "outputs": [
    {
     "name": "stdout",
     "output_type": "stream",
     "text": [
      "./dsgdb9nsd\\dsgdb9nsd_003825.xyz\t error\n",
      "./dsgdb9nsd\\dsgdb9nsd_020335.xyz\t error\n",
      "./dsgdb9nsd\\dsgdb9nsd_021389.xyz\t error\n",
      "./dsgdb9nsd\\dsgdb9nsd_024986.xyz\t error\n",
      "./dsgdb9nsd\\dsgdb9nsd_038620.xyz\t error\n",
      "./dsgdb9nsd\\dsgdb9nsd_104557.xyz\t error\n",
      "./dsgdb9nsd\\dsgdb9nsd_125691.xyz\t error\n",
      "./dsgdb9nsd\\dsgdb9nsd_127392.xyz\t error\n",
      "./dsgdb9nsd\\dsgdb9nsd_131934.xyz\t error\n"
     ]
    }
   ],
   "source": [
    "# main function\n",
    "ffinal_df = pd.DataFrame()\n",
    "for fp in glob(\"./data/dsgdb9nsd/*.xyz\"):\n",
    "    try:\n",
    "        df_temp = data_anylysis(fp)\n",
    "        ffinal_df = pd.concat([ffinal_df, df_temp], axis = 0)\n",
    "    except:\n",
    "        print(fp + '\\t error')\n",
    "\n",
    "#     for i in range(len(xyz)):\n",
    "#         tmp = xyz[:i]+xyz[i+1:]\n",
    "#         tmp_header = xyz_header[:i]+xyz_header[i+1:]\n",
    "#         relation.append(f\"{xyz_header[i]}->{tmp_header}\")\n",
    "#         dist_tmp = []\n",
    "#         for j in range(len(xyz)-1):\n",
    "#             dist_tmp.append(distance(xyz[i], tmp[j]))\n",
    "#         dist.append(dist_tmp) \n",
    "#     final_dict[os.path.basename(fp)] = [get_mole_xyz(df), relation, dist]\n",
    "# final_df = []\n",
    "# for k, v in final_dict.items():\n",
    "#     final_df.append([k, v[0], v[1], v[2]])\n",
    "# final_df = pd.DataFrame(final_df, columns=['mole', 'xyz', 'relation', 'distance'])\n",
    "# final_df.to_csv(\"./test.csv\")"
   ]
  },
  {
   "cell_type": "code",
   "execution_count": 39,
   "id": "9d9c4fcb",
   "metadata": {
    "scrolled": true
   },
   "outputs": [],
   "source": [
    "# test part\n",
    "\n",
    "filter = (ffinal_df['longest_dist'] > 3)\n",
    "ffinal_df[filter].to_csv(\"./smiles_distance_distbiggerthan3.csv\")\n",
    "ffinal_df.to_csv(\"./smiles_distance_alldata.csv\")"
   ]
  }
 ],
 "metadata": {
  "kernelspec": {
   "display_name": "Python 3 (ipykernel)",
   "language": "python",
   "name": "python3"
  },
  "language_info": {
   "codemirror_mode": {
    "name": "ipython",
    "version": 3
   },
   "file_extension": ".py",
   "mimetype": "text/x-python",
   "name": "python",
   "nbconvert_exporter": "python",
   "pygments_lexer": "ipython3",
   "version": "3.8.13"
  }
 },
 "nbformat": 4,
 "nbformat_minor": 5
}
