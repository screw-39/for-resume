{
 "cells": [
  {
   "cell_type": "markdown",
   "id": "504e884f",
   "metadata": {},
   "source": [
    "## 過去實驗室常用的資料集QM9，其中將不同化合物分子的組成以及其性質分別寫在不同.xyz中。\n",
    "\n",
    "## 以下程式碼中展示我為了將其中的資料整理成dataframe後輸出成.csv，方便後續實驗使用。"
   ]
  },
  {
   "cell_type": "code",
   "execution_count": 1,
   "id": "e28413ae",
   "metadata": {},
   "outputs": [],
   "source": [
    "import numpy as np\n",
    "import pandas as pd\n",
    "import os\n",
    "from pathlib import Path\n",
    "import csv"
   ]
  },
  {
   "cell_type": "code",
   "execution_count": 29,
   "id": "54b52e37",
   "metadata": {},
   "outputs": [],
   "source": [
    "PATH_QM9 = Path('./data/dsgdb9nsd.xyz')\n",
    "\n",
    "def processQM9_file(path):\n",
    "    row_count = sum(1 for row in csv.reader(open(path)))\n",
    "    \n",
    "#     find the smiles\n",
    "    smiles_row = row_count-2\n",
    "    smiles = pd.read_csv(path,sep=' |\\t',engine='python',skiprows=smiles_row,nrows=1,header=None)\n",
    "    \n",
    "#     molecule's name\n",
    "    molecule_name = str(path)[20:-4]\n",
    "    \n",
    "#     molecule's properties\n",
    "    stats = pd.read_csv(path,sep=' |\\t',engine='python',skiprows=1,nrows=1,header=None)\n",
    "    stats = stats.loc[:,2:]\n",
    "    stats.columns = ['rc_A','rc_B','rc_C','mu','alpha','homo','lumo','gap','r2','zpve','U0','U','H','G','Cv']\n",
    "    \n",
    "#     data combine\n",
    "    stats['smiles'] = smiles.loc[0,0]\n",
    "    stats.insert(0, 'molecule_name', molecule_name)\n",
    "    \n",
    "    return stats"
   ]
  },
  {
   "cell_type": "code",
   "execution_count": 36,
   "id": "1e4adf44",
   "metadata": {},
   "outputs": [],
   "source": [
    "df = pd.DataFrame()\n",
    "for path in PATH_QM9.iterdir():\n",
    "    stats = processQM9_file(path)\n",
    "    df = pd.concat([df, stats], axis = 0)"
   ]
  },
  {
   "cell_type": "code",
   "execution_count": 37,
   "id": "317f3f4a",
   "metadata": {},
   "outputs": [],
   "source": [
    "df.to_csv('qm9_prop_smiles_dataset_test.csv')"
   ]
  }
 ],
 "metadata": {
  "kernelspec": {
   "display_name": "Python 3 (ipykernel)",
   "language": "python",
   "name": "python3"
  },
  "language_info": {
   "codemirror_mode": {
    "name": "ipython",
    "version": 3
   },
   "file_extension": ".py",
   "mimetype": "text/x-python",
   "name": "python",
   "nbconvert_exporter": "python",
   "pygments_lexer": "ipython3",
   "version": "3.8.13"
  }
 },
 "nbformat": 4,
 "nbformat_minor": 5
}
