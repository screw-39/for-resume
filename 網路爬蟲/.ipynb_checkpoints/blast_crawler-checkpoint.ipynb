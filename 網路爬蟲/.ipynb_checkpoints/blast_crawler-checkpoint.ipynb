{
 "cells": [
  {
   "cell_type": "markdown",
   "id": "9f3e9612",
   "metadata": {},
   "source": [
    "### 我在研究中為了將蛋白質分類，需要在blast查詢蛋白質序列的資訊。\n",
    "### 而blast要求多序列的查詢需透過他們的api進行，但經過操作後發現所需時間太過攏長。\n",
    "### 因此我利用selenium自動查詢並爬下需要的資訊，跳過api的使用，以減少資料搜尋所需要的時間。\n",
    "\n",
    "### ps:以下僅為簡單展示作業內容，因此有對內容進行刪減"
   ]
  },
  {
   "cell_type": "code",
   "execution_count": 1,
   "id": "e61ce435",
   "metadata": {},
   "outputs": [],
   "source": [
    "import pandas as pd\n",
    "import time\n",
    "\n",
    "from selenium import webdriver\n",
    "from selenium .webdriver.chrome.options import Options\n",
    "from selenium.webdriver.common.by import By\n",
    "from selenium.webdriver.support.ui import WebDriverWait\n",
    "from selenium.webdriver.support import expected_conditions as EC\n",
    "from selenium.common.exceptions import TimeoutException"
   ]
  },
  {
   "cell_type": "markdown",
   "id": "966f302b",
   "metadata": {},
   "source": [
    "## 開啟檔案讀取蛋白質序列"
   ]
  },
  {
   "cell_type": "code",
   "execution_count": 10,
   "id": "67ba9a4b",
   "metadata": {
    "scrolled": true
   },
   "outputs": [
    {
     "name": "stdout",
     "output_type": "stream",
     "text": [
      "CPU times: total: 453 ms\n",
      "Wall time: 457 ms\n"
     ]
    }
   ],
   "source": [
    "%%time\n",
    "\n",
    "proteins = []\n",
    "\n",
    "with open('./kinase_train_original.txt', 'r') as f:\n",
    "    for line in f.readlines():\n",
    "        protein = line.split(' ')[1]\n",
    "        if protein not in proteins:\n",
    "            proteins.append(protein)\n",
    "            \n",
    "with open('./kinase_test.txt', 'r') as f:\n",
    "    for line in f.readlines():\n",
    "        protein = line.split(' ')[1]\n",
    "        if protein not in proteins:\n",
    "            proteins.append(protein)"
   ]
  },
  {
   "cell_type": "code",
   "execution_count": 11,
   "id": "e15450c7",
   "metadata": {
    "scrolled": true
   },
   "outputs": [
    {
     "data": {
      "text/html": [
       "<div>\n",
       "<style scoped>\n",
       "    .dataframe tbody tr th:only-of-type {\n",
       "        vertical-align: middle;\n",
       "    }\n",
       "\n",
       "    .dataframe tbody tr th {\n",
       "        vertical-align: top;\n",
       "    }\n",
       "\n",
       "    .dataframe thead th {\n",
       "        text-align: right;\n",
       "    }\n",
       "</style>\n",
       "<table border=\"1\" class=\"dataframe\">\n",
       "  <thead>\n",
       "    <tr style=\"text-align: right;\">\n",
       "      <th></th>\n",
       "      <th>FASTA Sequence</th>\n",
       "    </tr>\n",
       "  </thead>\n",
       "  <tbody>\n",
       "    <tr>\n",
       "      <th>0</th>\n",
       "      <td>MLGAVEGPRWKQAEDIRDIYDFRDVLGTGAFSEVILAEDKRTQKLV...</td>\n",
       "    </tr>\n",
       "    <tr>\n",
       "      <th>1</th>\n",
       "      <td>MEPAAGFLSPRPFQRAAAAPAPPAGPGPPPSALRGPELEMLAGLPT...</td>\n",
       "    </tr>\n",
       "    <tr>\n",
       "      <th>2</th>\n",
       "      <td>MELRVGNRYRLGRKIGSGSFGDIYLGTDIAAGEEVAIKLECVKTKH...</td>\n",
       "    </tr>\n",
       "    <tr>\n",
       "      <th>3</th>\n",
       "      <td>MQSKVLLAVALWLCVETRAASVGLPSVSLDLPRLSIQKDILTIKAN...</td>\n",
       "    </tr>\n",
       "    <tr>\n",
       "      <th>4</th>\n",
       "      <td>MRPSGTAGAALLALLAALCPASRALEEKKVCQGTSNKLTQLGTFED...</td>\n",
       "    </tr>\n",
       "    <tr>\n",
       "      <th>...</th>\n",
       "      <td>...</td>\n",
       "    </tr>\n",
       "    <tr>\n",
       "      <th>224</th>\n",
       "      <td>MRHSKRTYCPDWDDKDWDYGKWRSSSSHKRRKRSHSSAQENKRCKY...</td>\n",
       "    </tr>\n",
       "    <tr>\n",
       "      <th>225</th>\n",
       "      <td>MSDNGELEDKPPAPPVRMSSTIFSTGGKDPLSANHSLKPLPSVPEE...</td>\n",
       "    </tr>\n",
       "    <tr>\n",
       "      <th>226</th>\n",
       "      <td>MASDAVQSEPRSWSLLEQLGLAGADLAAPGVQQQLELERERLRREI...</td>\n",
       "    </tr>\n",
       "    <tr>\n",
       "      <th>227</th>\n",
       "      <td>MEGAAAPVAGDRPDLGLGAPGSPREAVAGATAALEPRKPHGVKRHH...</td>\n",
       "    </tr>\n",
       "    <tr>\n",
       "      <th>228</th>\n",
       "      <td>MSSRTVLAPGNDRNSDTHGTLGSGRSSDKGPSWSSRSLGARCRNSI...</td>\n",
       "    </tr>\n",
       "  </tbody>\n",
       "</table>\n",
       "<p>229 rows × 1 columns</p>\n",
       "</div>"
      ],
      "text/plain": [
       "                                        FASTA Sequence\n",
       "0    MLGAVEGPRWKQAEDIRDIYDFRDVLGTGAFSEVILAEDKRTQKLV...\n",
       "1    MEPAAGFLSPRPFQRAAAAPAPPAGPGPPPSALRGPELEMLAGLPT...\n",
       "2    MELRVGNRYRLGRKIGSGSFGDIYLGTDIAAGEEVAIKLECVKTKH...\n",
       "3    MQSKVLLAVALWLCVETRAASVGLPSVSLDLPRLSIQKDILTIKAN...\n",
       "4    MRPSGTAGAALLALLAALCPASRALEEKKVCQGTSNKLTQLGTFED...\n",
       "..                                                 ...\n",
       "224  MRHSKRTYCPDWDDKDWDYGKWRSSSSHKRRKRSHSSAQENKRCKY...\n",
       "225  MSDNGELEDKPPAPPVRMSSTIFSTGGKDPLSANHSLKPLPSVPEE...\n",
       "226  MASDAVQSEPRSWSLLEQLGLAGADLAAPGVQQQLELERERLRREI...\n",
       "227  MEGAAAPVAGDRPDLGLGAPGSPREAVAGATAALEPRKPHGVKRHH...\n",
       "228  MSSRTVLAPGNDRNSDTHGTLGSGRSSDKGPSWSSRSLGARCRNSI...\n",
       "\n",
       "[229 rows x 1 columns]"
      ]
     },
     "execution_count": 11,
     "metadata": {},
     "output_type": "execute_result"
    }
   ],
   "source": [
    "k_df = pd.DataFrame(proteins, columns = ['FASTA Sequence'])\n",
    "k_df"
   ]
  },
  {
   "cell_type": "markdown",
   "id": "047d019d",
   "metadata": {},
   "source": [
    "## 利用selenium上blast重複查詢所有序列的資訊並抓下相對應的資訊"
   ]
  },
  {
   "cell_type": "code",
   "execution_count": 103,
   "id": "c59aa297",
   "metadata": {},
   "outputs": [
    {
     "name": "stdout",
     "output_type": "stream",
     "text": [
      "1/25\n",
      "2/25\n",
      "3/25\n",
      "4/25\n",
      "5/25\n",
      "6/25\n",
      "7/25\n",
      "8/25\n",
      "9/25\n",
      "10/25\n",
      "11/25\n",
      "12/25\n",
      "13/25\n",
      "14/25\n",
      "15/25\n",
      "16/25\n",
      "17/25\n",
      "18/25\n",
      "19/25\n",
      "20/25\n",
      "21/25\n",
      "22/25\n",
      "23/25\n",
      "24/25\n",
      "25/25\n",
      "CPU times: total: 719 ms\n",
      "Wall time: 36min 36s\n"
     ]
    }
   ],
   "source": [
    "%%time\n",
    "\n",
    "options = Options()\n",
    "options.chrome_executable_path = './chromedriver.exe'\n",
    "driver = webdriver.Chrome(options=options)\n",
    "driver.get('https://blast.ncbi.nlm.nih.gov/Blast.cgi?PAGE=Proteins&PROGRAM=blastp&PAGE_TYPE=BlastSearch&BLAST_SPEC=')\n",
    "p_pes = []\n",
    "n = 1\n",
    "\n",
    "for inx in fuck_list:\n",
    "    print(f'{n}/25')\n",
    "    squence = k_df['FASTA Sequence'][inx]\n",
    "    time.sleep(5)\n",
    "    try:\n",
    "        Check = WebDriverWait(driver, 60).until(EC.presence_of_element_located((By.ID, 'seq')))\n",
    "        pro_find = driver.find_elements(By.ID, 'seq')[0]\n",
    "        pro_find.clear()\n",
    "        pro_find.send_keys(squence)\n",
    "        time.sleep(6)\n",
    "        blast = driver.find_elements(By.CLASS_NAME, 'blastbutton')[0]\n",
    "        blast.click()\n",
    "        Check = WebDriverWait(driver, 600).until(EC.presence_of_element_located((By.ID, 'filterRes')))\n",
    "        description = driver.find_elements(By.ID, 'dscTable')\n",
    "        target = description[0].find_elements(By.ID, 'deflnDesc_1')\n",
    "        Id = description[0].find_elements(By.CLASS_NAME, 'dflSeq')\n",
    "        des = [Id[0].text, target[0].text]\n",
    "        p_pes.append(des)\n",
    "        time.sleep(10)\n",
    "        back = driver.find_elements(By.ID, 'searchOptions')[0]\n",
    "        back.click()\n",
    "    except:\n",
    "        p_pes.append('error')\n",
    "\n",
    "    n = n+1\n",
    "\n",
    "driver.close()"
   ]
  },
  {
   "cell_type": "code",
   "execution_count": 104,
   "id": "43d74a76",
   "metadata": {},
   "outputs": [
    {
     "data": {
      "text/plain": [
       "[['NP_006246.2', 'protein kinase C eta type [Homo sapiens]'],\n",
       " ['NP_001712.1',\n",
       "  'cytoplasmic tyrosine-protein kinase BMX isoform 1 [Homo sapiens]'],\n",
       " ['NP_001271159.1',\n",
       "  'mitogen-activated protein kinase kinase kinase 9 isoform 2 [Homo sapiens]'],\n",
       " ['NP_003943.2', 'ribosomal protein S6 kinase beta-2 [Homo sapiens]'],\n",
       " ['AAX43259.1',\n",
       "  'pyruvate dehydrogenase kinase isoenzyme 1 [synthetic construct]'],\n",
       " ['NP_001257414.1',\n",
       "  'calcium/calmodulin-dependent protein kinase kinase 2 isoform 1 [Homo sapiens]'],\n",
       " ['AAQ02601.1',\n",
       "  'mitogen-activated protein kinase kinase 6 [synthetic construct]'],\n",
       " ['NP_001120662.1', 'tyrosine-protein kinase CSK isoform 1 [Homo sapiens]'],\n",
       " ['Q9BUB5.1',\n",
       "  'RecName: Full=MAP kinase-interacting serine/threonine-protein kinase 1; AltName: Full=MAP kinase signal-integrating kinase 1; Short=MAPK signal-integrating kinase 1; Short=Mnk1 [Homo sapiens]'],\n",
       " ['NP_001307852.1', 'tyrosine-protein kinase JAK1 isoform 1 [Homo sapiens]'],\n",
       " ['NP_002737.2',\n",
       "  'mitogen-activated protein kinase 3 isoform 1 [Homo sapiens]'],\n",
       " ['NP_001233530.1',\n",
       "  \"5'-AMP-activated protein kinase subunit beta-1 [Pan troglodytes]\"],\n",
       " ['NP_006334.2', 'tyrosine-protein kinase Mer precursor [Homo sapiens]'],\n",
       " ['NP_002437.2',\n",
       "  'mitogen-activated protein kinase kinase kinase 10 [Homo sapiens]'],\n",
       " ['NP_001296122.1',\n",
       "  'ephrin type-B receptor 2 isoform 4 precursor [Homo sapiens]'],\n",
       " ['AAQ02556.1', 'cyclin-dependent kinase 6 [synthetic construct]'],\n",
       " ['NP_001248581.1', 'casein kinase I [Macaca mulatta]'],\n",
       " ['NP_005914.1',\n",
       "  'mitogen-activated protein kinase kinase kinase 5 [Homo sapiens]'],\n",
       " ['NP_009298.1', 'tyrosine-protein kinase ABL2 isoform b [Homo sapiens]'],\n",
       " ['AAQ02485.1',\n",
       "  'Gardner-Rasheed feline sarcoma viral oncogene-like [synthetic construct]'],\n",
       " ['AAX41027.1', 'CDC-like kinase 1 [synthetic construct]'],\n",
       " ['NP_002568.2', 'serine/threonine-protein kinase PAK 2 [Homo sapiens]'],\n",
       " ['NP_002732.3',\n",
       "  'serine/threonine-protein kinase N1 isoform 2 [Homo sapiens]'],\n",
       " ['NP_055655.1', 'NUAK family SNF1-like kinase 1 [Homo sapiens]'],\n",
       " ['NP_001186796.1',\n",
       "  'MAP/microtubule affinity-regulating kinase 4 isoform 1 [Homo sapiens]']]"
      ]
     },
     "execution_count": 104,
     "metadata": {},
     "output_type": "execute_result"
    }
   ],
   "source": [
    "#2nd\n",
    "p_pes"
   ]
  }
 ],
 "metadata": {
  "kernelspec": {
   "display_name": "Python 3 (ipykernel)",
   "language": "python",
   "name": "python3"
  },
  "language_info": {
   "codemirror_mode": {
    "name": "ipython",
    "version": 3
   },
   "file_extension": ".py",
   "mimetype": "text/x-python",
   "name": "python",
   "nbconvert_exporter": "python",
   "pygments_lexer": "ipython3",
   "version": "3.8.13"
  }
 },
 "nbformat": 4,
 "nbformat_minor": 5
}
